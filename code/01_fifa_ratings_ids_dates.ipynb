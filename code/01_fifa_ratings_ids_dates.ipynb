{
 "cells": [
  {
   "cell_type": "code",
   "execution_count": null,
   "metadata": {},
   "outputs": [],
   "source": [
    "import pandas as pd\n",
    "import requests\n",
    "from datetime import datetime\n",
    "from bs4 import BeautifulSoup as bs"
   ]
  },
  {
   "cell_type": "code",
   "execution_count": null,
   "metadata": {},
   "outputs": [],
   "source": [
    "# read data\n",
    "main_url = 'https://www.fifa.com/fifa-world-ranking/ranking-table/men/rank/'\n",
    "id_num = 1\n",
    "url = '{}/id{}/'.format(main_url, id_num)\n",
    "data = requests.get(url).text\n",
    "data_soup = bs(data, 'html5lib')"
   ]
  },
  {
   "cell_type": "code",
   "execution_count": null,
   "metadata": {},
   "outputs": [],
   "source": [
    "# save data\n",
    "id_vs_date = data_soup.find('select')\n",
    "ids_dates = pd.DataFrame(columns = {'id_code', 'date_str'})\n",
    "\n",
    "for row in id_vs_date.find_all('option'):\n",
    "    ranking_date = str(row.text)\n",
    "    ranking_date_num = datetime.strptime(ranking_date, '%d %B %Y')\n",
    "    ranking_date_num = ranking_date_num.strftime('%Y-%m-%d')\n",
    "    ranking_date = str(ranking_date_num)\n",
    "    ranking_id = row['value']\n",
    "    \n",
    "    ids_dates = ids_dates.append(\n",
    "        {\n",
    "            'id_code': ranking_id\n",
    "            , 'date_str': ranking_date\n",
    "        }\n",
    "        , ignore_index = True\n",
    "    )\n",
    "    del ranking_date_num\n",
    "    \n",
    "ids_dates.to_csv('../data/ids_dates.csv', index = False)\n",
    "del ids_dates"
   ]
  }
 ],
 "metadata": {
  "kernelspec": {
   "display_name": "Python 3",
   "language": "python",
   "name": "python3"
  },
  "language_info": {
   "codemirror_mode": {
    "name": "ipython",
    "version": 3
   },
   "file_extension": ".py",
   "mimetype": "text/x-python",
   "name": "python",
   "nbconvert_exporter": "python",
   "pygments_lexer": "ipython3",
   "version": "3.8.5"
  }
 },
 "nbformat": 4,
 "nbformat_minor": 4
}
