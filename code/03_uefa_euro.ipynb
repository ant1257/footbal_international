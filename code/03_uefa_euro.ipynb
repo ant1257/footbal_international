{
 "cells": [
  {
   "cell_type": "code",
   "execution_count": null,
   "metadata": {},
   "outputs": [],
   "source": [
    "import json\n",
    "import requests\n",
    "import pandas as pd\n",
    "from bs4 import BeautifulSoup as bs\n",
    "from custom_package.functions import get_ranking_id_date, get_ranking_table, add_ranks"
   ]
  },
  {
   "cell_type": "code",
   "execution_count": null,
   "metadata": {},
   "outputs": [],
   "source": [
    "print('UEFA EURO 2016\\n')\n",
    "url = 'https://en.wikipedia.org/wiki/UEFA_Euro_2016'\n",
    "data = requests.get(url).text\n",
    "data_bs = bs(data, 'html5lib')\n",
    "tables = data_bs.find_all('table')"
   ]
  },
  {
   "cell_type": "code",
   "execution_count": null,
   "metadata": {},
   "outputs": [],
   "source": [
    "tables[78]"
   ]
  },
  {
   "cell_type": "code",
   "execution_count": null,
   "metadata": {},
   "outputs": [],
   "source": [
    "df = pd.DataFrame(columns = {\n",
    "    'date'\n",
    "    , 'home_team'\n",
    "    , 'away_team'\n",
    "    , 'home_scored'\n",
    "    , 'away_scored'\n",
    "})"
   ]
  },
  {
   "cell_type": "code",
   "execution_count": null,
   "metadata": {},
   "outputs": [],
   "source": [
    "print('Scrapping results...')\n",
    "for counter, table in enumerate(tables):\n",
    "    if (counter >= 21 and counter <= 78 and counter not in [62, 63]):\n",
    "        temp = table.find_all('td')\n",
    "        temp = temp[1].find('a')\n",
    "        \n",
    "        if temp is None:\n",
    "            continue\n",
    "        else:\n",
    "            print(counter)\n",
    "            game_url = temp['href']\n",
    "            game_data = requests.get(game_url).text\n",
    "            game_data_bs = bs(game_data, 'html5lib')\n",
    "            game_info = game_data_bs.find('script', type = \"application/ld+json\").find_next('script', type = \"application/ld+json\")\n",
    "            json_data = json.loads(game_info.text)\n",
    "            result = json_data['name']\n",
    "            print(result)\n",
    "\n",
    "            for team_side in ['homeTeam', 'awayTeam']:\n",
    "                result = result.replace(json_data[team_side]['name'], '').strip()\n",
    "            \n",
    "            df = df.append(\n",
    "                {\n",
    "                    'date': json_data['startDate'][:10]\n",
    "                    , 'home_team': json_data['homeTeam']['name']\n",
    "                    , 'away_team': json_data['awayTeam']['name']\n",
    "                    , 'home_scored': result.split('-')[0]\n",
    "                    , 'away_scored': result.split('-')[1]\n",
    "                }\n",
    "                , ignore_index = True\n",
    "            )\n",
    "    else:\n",
    "        continue\n",
    "print('Done!\\n')"
   ]
  },
  {
   "cell_type": "code",
   "execution_count": null,
   "metadata": {},
   "outputs": [],
   "source": [
    "df"
   ]
  },
  {
   "cell_type": "code",
   "execution_count": null,
   "metadata": {},
   "outputs": [],
   "source": [
    "# Add ranks\n",
    "add_ranks(df, df[df.index == 0]['date'].item())"
   ]
  },
  {
   "cell_type": "code",
   "execution_count": null,
   "metadata": {},
   "outputs": [],
   "source": []
  }
 ],
 "metadata": {
  "kernelspec": {
   "display_name": "Python 3",
   "language": "python",
   "name": "python3"
  },
  "language_info": {
   "codemirror_mode": {
    "name": "ipython",
    "version": 3
   },
   "file_extension": ".py",
   "mimetype": "text/x-python",
   "name": "python",
   "nbconvert_exporter": "python",
   "pygments_lexer": "ipython3",
   "version": "3.8.5"
  }
 },
 "nbformat": 4,
 "nbformat_minor": 4
}
